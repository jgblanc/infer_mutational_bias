{
 "cells": [
  {
   "cell_type": "code",
   "execution_count": 1,
   "metadata": {},
   "outputs": [],
   "source": [
    "filepath = \"../data/small.tsv\"\n",
    "da_dict = {}\n",
    "daf_dict = {}\n",
    "with open(filepath) as fp:\n",
    "    line = fp.readline()\n",
    "    while line:\n",
    "        line = line.strip()\n",
    "        line_list = line.split()\n",
    "        if line_list[11] == \"derived_ancestral\":\n",
    "            key = line_list[0] + \":\" + line_list[1] \n",
    "            key_value_allele = line_list[9]\n",
    "            key_value_daf = line_list[19]\n",
    "            da_dict[key] = key_value_allele\n",
    "            daf_dict[key] = key_value_daf\n",
    "        line = fp.readline()"
   ]
  },
  {
   "cell_type": "code",
   "execution_count": 2,
   "metadata": {},
   "outputs": [
    {
     "data": {
      "text/plain": [
       "'A'"
      ]
     },
     "execution_count": 2,
     "metadata": {},
     "output_type": "execute_result"
    }
   ],
   "source": [
    "da_dict[\"1:114377568\"]"
   ]
  },
  {
   "cell_type": "code",
   "execution_count": 7,
   "metadata": {},
   "outputs": [
    {
     "name": "stdout",
     "output_type": "stream",
     "text": [
      "SNP\n",
      "SNP,EA,NEA,CHR,BP,OR,SE,P,EAF,MAF,RAF,RISK_ALLELE,RISK,NA,NA,NA\n",
      "1:114377568\n",
      "GOOD\n",
      "0.10\n",
      "1:114377568,A,G,1,114377568,1.39,0.04,2.21e-14,0.0944,0.10,0.0944,A,TRUE,T,0.0944,T\n",
      "1:114303808\n",
      "GOOD\n",
      "0.10\n",
      "1:114303808,A,C,1,114303808,1.39,0.04,3.13e-14,0.0915,0.10,0.0915,A,TRUE,T,0.0915,T\n",
      "1:172715702\n",
      "GOOD\n",
      "0.13\n",
      "1:172715702,G,A,1,172715702,1.33,0.04,1.86e-13,0.1183,0.13,0.1183,G,TRUE,T,0.1183,T\n",
      "1:8476428\n",
      "GOOD\n",
      "0.48\n",
      "1:8476428,A,G,1,8476428,1.23,0.03,8.08e-13,0.4881,0.48,0.4881,A,TRUE,F,0.5119,F\n",
      "1:8484823\n",
      "GOOD\n",
      "0.45\n",
      "1:8484823,A,G,1,8484823,1.22,0.03,1.84e-12,0.4722,0.45,0.4722,A,TRUE,T,0.4722,T\n",
      "1:8489302\n",
      "GOOD\n",
      "0.45\n",
      "1:8489302,C,T,1,8489302,1.22,0.03,2.19e-12,0.47319999999999995,0.45,0.47319999999999995,C,TRUE,F,0.5268,F\n",
      "1:8481016\n",
      "GOOD\n",
      "0.45\n",
      "1:8481016,T,G,1,8481016,1.22,0.03,2.22e-12,0.4722,0.45,0.4722,T,TRUE,T,0.4722,T\n",
      "1:8482078\n",
      "GOOD\n",
      "0.45\n",
      "1:8482078,C,T,1,8482078,1.22,0.03,3.26e-12,0.4732,0.45,0.4732,C,TRUE,T,0.4732,T\n",
      "1:8498326\n",
      "1:8498326,D,I,1,8498326,1.22,0.03,5.38e-12,NA,0.44,NA,D,TRUE,NA,NA,NA\n",
      "Matched GWAS\n"
     ]
    }
   ],
   "source": [
    "filepath_GWAS = \"../output/GWAS_ATLAS/parsed_gwas/small.txt\"\n",
    "new_file_lines = []\n",
    "with open(filepath_GWAS) as fp: \n",
    "    line = fp.readline()\n",
    "    while line:\n",
    "        line = line.strip()\n",
    "        line_list = line.split()\n",
    "        SNP = line_list[0]\n",
    "        print(SNP)\n",
    "        EA = line_list[1]\n",
    "        RA = line_list[11]\n",
    "        EAF = line_list[8]\n",
    "        MAF = line_list[9]\n",
    "        RAF = line_list[10]\n",
    "        try: \n",
    "            DA = da_dict[SNP]\n",
    "#            print(DA)\n",
    "#            print(MAF)\n",
    "            DAF = float(daf_dict[SNP])\n",
    "            print(DAF)\n",
    "            if MAF != \"NA\" and EAF == \"NA\":\n",
    "                print(\"GOOD\")\n",
    "                if DAF < 0.5:\n",
    "                    if DA == EA:\n",
    "                        line_list[8] = MAF\n",
    "                    else:\n",
    "                        line_list[8] = str(1 - float(MAF)) \n",
    "                if DAF >= 0.5:\n",
    "                    if DA == EA:\n",
    "                        line_list[8]= str(1 - float(MAF)) \n",
    "                    else:\n",
    "                        line_list[8] = MAF\n",
    "                if RA == EA:\n",
    "                    line_list[10] = str(line_list[8])\n",
    "                else:\n",
    "                    line_list[10] = str(1 - float(line_list[8]))\n",
    "                print(line_list[8])\n",
    "            if DA == EA: \n",
    "                new_entry = \"T\"\n",
    "                if EAF == \"NA\":\n",
    "                    line_list[8] = str(DAF) \n",
    "                daf = str(line_list[8])\n",
    "            else: \n",
    "                new_entry = \"F\" \n",
    "                if EAF == \"NA\":\n",
    "                    line_list[8] = str(1 - DAF)\n",
    "                daf = str(1 - float(line_list[8]))\n",
    "            if DA == RA:\n",
    "                r_derived = \"T\"\n",
    "                if RAF == \"NA\":\n",
    "                    line_list[10] = str(DAF)\n",
    "            else:\n",
    "                r_derived = \"F\"\n",
    "                if RAF == \"NA\":\n",
    "                    line_list[10] = str(1 - DAF)\n",
    "            if MAF == \"NA\":\n",
    "                if DAF < 0.5:\n",
    "                    line_list[9] = str(DAF)\n",
    "                else:\n",
    "                    line_list[9] = str(1-DAF)\n",
    "        except KeyError:\n",
    "            new_entry = \"NA\" \n",
    "            daf = str(\"NA\")\n",
    "            r_derived = \"NA\"\n",
    " #       print(daf)\n",
    "        line_list.append(new_entry)\n",
    "        line_list.append(daf)\n",
    "#        print(line_list)\n",
    "        line_list.append(r_derived)\n",
    "        new_line = \",\".join(line_list)\n",
    "        print(new_line)\n",
    "        new_file_lines.append(new_line)\n",
    "        line = fp.readline()     \n",
    "print(\"Matched GWAS\")    \n",
    "    "
   ]
  }
 ],
 "metadata": {
  "kernelspec": {
   "display_name": "Python 3",
   "language": "python",
   "name": "python3"
  },
  "language_info": {
   "codemirror_mode": {
    "name": "ipython",
    "version": 3
   },
   "file_extension": ".py",
   "mimetype": "text/x-python",
   "name": "python",
   "nbconvert_exporter": "python",
   "pygments_lexer": "ipython3",
   "version": "3.7.1"
  }
 },
 "nbformat": 4,
 "nbformat_minor": 2
}
